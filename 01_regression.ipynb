{
 "cells": [
  {
   "cell_type": "code",
   "execution_count": 1,
   "id": "49d22fca",
   "metadata": {},
   "outputs": [],
   "source": [
    "import torch\n",
    "from torch import nn\n",
    "import matplotlib.pyplot as plt"
   ]
  },
  {
   "cell_type": "code",
   "execution_count": 2,
   "id": "8ee0dc22",
   "metadata": {},
   "outputs": [
    {
     "name": "stdout",
     "output_type": "stream",
     "text": [
      "tensor([1.], device='mps:0')\n"
     ]
    }
   ],
   "source": [
    "if torch.backends.mps.is_available():\n",
    "    mps_device = torch.device(\"mps\")\n",
    "    x = torch.ones(1, device=mps_device)\n",
    "    print (x)\n",
    "else:\n",
    "    print (\"MPS device not found.\")"
   ]
  },
  {
   "cell_type": "markdown",
   "id": "5daeb610",
   "metadata": {},
   "source": [
    "ugh we're doing linear regression as an example kill me"
   ]
  },
  {
   "cell_type": "code",
   "execution_count": 3,
   "id": "4382326b",
   "metadata": {},
   "outputs": [
    {
     "data": {
      "text/plain": [
       "(tensor([[0.0000],\n",
       "         [0.0200],\n",
       "         [0.0400],\n",
       "         [0.0600],\n",
       "         [0.0800],\n",
       "         [0.1000],\n",
       "         [0.1200],\n",
       "         [0.1400],\n",
       "         [0.1600],\n",
       "         [0.1800]], device='mps:0'),\n",
       " tensor([[0.3000],\n",
       "         [0.3140],\n",
       "         [0.3280],\n",
       "         [0.3420],\n",
       "         [0.3560],\n",
       "         [0.3700],\n",
       "         [0.3840],\n",
       "         [0.3980],\n",
       "         [0.4120],\n",
       "         [0.4260]], device='mps:0'))"
      ]
     },
     "execution_count": 3,
     "metadata": {},
     "output_type": "execute_result"
    }
   ],
   "source": [
    "# Create *known* parameters\n",
    "weight = 0.7\n",
    "bias = 0.3\n",
    "\n",
    "# Create data\n",
    "start = 0\n",
    "end = 1\n",
    "step = 0.02\n",
    "X = torch.arange(start, end, step, device=\"mps\").unsqueeze(dim=1)\n",
    "y = weight * X + bias\n",
    "\n",
    "X[:10], y[:10]"
   ]
  },
  {
   "cell_type": "markdown",
   "id": "e91183fd",
   "metadata": {},
   "source": [
    "| Split | Purpose | Amount of total data | How often is it used? |\n",
    "| ----- | ----- | ----- | ----- |\n",
    "| **Training set** | The model learns from this data (like the course materials you study during the semester). | ~60-80% | Always |\n",
    "| **Validation set** | The model gets tuned on this data (like the practice exam you take before the final exam). | ~10-20% | Often but not always |\n",
    "| **Testing set** | The model gets evaluated on this data to test what it has learned (like the final exam you take at the end of the semester). | ~10-20% | Always |"
   ]
  },
  {
   "cell_type": "code",
   "execution_count": 4,
   "id": "db425580",
   "metadata": {},
   "outputs": [
    {
     "data": {
      "text/plain": [
       "(40, 40, 10, 10)"
      ]
     },
     "execution_count": 4,
     "metadata": {},
     "output_type": "execute_result"
    }
   ],
   "source": [
    "# split train & test\n",
    "train_split = int(0.8 * len(X))\n",
    "X_train, y_train = X[:train_split], y[:train_split]\n",
    "X_test, y_test = X[train_split:], y[train_split:]\n",
    "\n",
    "len(X_train), len(y_train), len(X_test), len(y_test)"
   ]
  },
  {
   "cell_type": "code",
   "execution_count": 5,
   "id": "09b7c293",
   "metadata": {},
   "outputs": [],
   "source": [
    "def plot_predictions(train_data=X_train.cpu().numpy(), \n",
    "                     train_labels=y_train.cpu().numpy(), \n",
    "                     test_data=X_test.cpu().numpy(), \n",
    "                     test_labels=y_test.cpu().numpy(), \n",
    "                     predictions=None):\n",
    "  \"\"\"\n",
    "  Plots training data, test data and compares predictions.\n",
    "  \"\"\"\n",
    "  plt.figure(figsize=(10, 7))\n",
    "\n",
    "  # Plot training data in blue\n",
    "  plt.scatter(train_data, train_labels, c=\"b\", s=4, label=\"Training data\")\n",
    "  \n",
    "  # Plot test data in green\n",
    "  plt.scatter(test_data, test_labels, c=\"g\", s=4, label=\"Testing data\")\n",
    "\n",
    "  if predictions is not None:\n",
    "    # Plot the predictions in red (predictions were made on the test data)\n",
    "    plt.scatter(test_data, predictions.cpu().numpy(), c=\"r\", s=4, label=\"Predictions\")\n",
    "\n",
    "  # Show the legend\n",
    "  plt.legend(prop={\"size\": 14})"
   ]
  },
  {
   "cell_type": "code",
   "execution_count": 6,
   "id": "3d14956c",
   "metadata": {},
   "outputs": [
    {
     "data": {
      "image/png": "[encoded data removed]",
      "text/plain": [
       "<Figure size 1000x700 with 1 Axes>"
      ]
     },
     "metadata": {},
     "output_type": "display_data"
    }
   ],
   "source": [
    "plot_predictions()"
   ]
  },
  {
   "cell_type": "code",
   "execution_count": 7,
   "id": "240ec67e",
   "metadata": {},
   "outputs": [],
   "source": [
    "# Create a Linear Regression model class\n",
    "class LinearRegressionModel(nn.Module): # <- almost everything in PyTorch is a nn.Module (think of this as neural network lego blocks)\n",
    "    def __init__(self):\n",
    "        super().__init__() \n",
    "        self.weights = nn.Parameter(torch.randn(1, # <- start with random weights (this will get adjusted as the model learns)\n",
    "                                                dtype=torch.float,# <- PyTorch loves float32 by default\n",
    "                                               device=\"mps\"), \n",
    "                                   requires_grad=True) # <- can we update this value with gradient descent?)\n",
    "\n",
    "        self.bias = nn.Parameter(torch.randn(1, # <- start with random bias (this will get adjusted as the model learns)\n",
    "                                            dtype=torch.float,# <- PyTorch loves float32 by default\n",
    "                                            device=\"mps\"), \n",
    "                                requires_grad=True) # <- can we update this value with gradient descent?))\n",
    "\n",
    "    # Forward defines the computation in the model\n",
    "    def forward(self, x: torch.Tensor) -> torch.Tensor: # <- \"x\" is the input data (e.g. training/testing features)\n",
    "        return self.weights * x + self.bias # <- this is the linear regression formula (y = m*x + b)"
   ]
  },
  {
   "cell_type": "markdown",
   "id": "84aec1f8",
   "metadata": {},
   "source": [
    "| PyTorch module | What does it do? |\n",
    "| ----- | ----- |\n",
    "| [`torch.nn`](https://pytorch.org/docs/stable/nn.html) | Contains all of the building blocks for computational graphs (essentially a series of computations executed in a particular way). |\n",
    "| [`torch.nn.Parameter`](https://pytorch.org/docs/stable/generated/torch.nn.parameter.Parameter.html#parameter) | Stores tensors that can be used with `nn.Module`. If `requires_grad=True` gradients (used for updating model parameters via [**gradient descent**](https://ml-cheatsheet.readthedocs.io/en/latest/gradient_descent.html))  are calculated automatically, this is often referred to as \"autograd\".  | \n",
    "| [`torch.nn.Module`](https://pytorch.org/docs/stable/generated/torch.nn.Module.html#torch.nn.Module) | The base class for all neural network modules, all the building blocks for neural networks are subclasses. If you're building a neural network in PyTorch, your models should subclass `nn.Module`. Requires a `forward()` method be implemented. | \n",
    "| [`torch.optim`](https://pytorch.org/docs/stable/optim.html) | Contains various optimization algorithms (these tell the model parameters stored in `nn.Parameter` how to best change to improve gradient descent and in turn reduce the loss). | \n",
    "| `def forward()` | All `nn.Module` subclasses require a `forward()` method, this defines the computation that will take place on the data passed to the particular `nn.Module` (e.g. the linear regression formula above). |"
   ]
  },
  {
   "cell_type": "code",
   "execution_count": 8,
   "id": "a8b90397",
   "metadata": {},
   "outputs": [
    {
     "data": {
      "text/plain": [
       "[Parameter containing:\n",
       " tensor([0.9047], device='mps:0', requires_grad=True),\n",
       " Parameter containing:\n",
       " tensor([-1.5057], device='mps:0', requires_grad=True)]"
      ]
     },
     "execution_count": 8,
     "metadata": {},
     "output_type": "execute_result"
    }
   ],
   "source": [
    "# Set manual seed since nn.Parameter are randomly initialzied\n",
    "torch.manual_seed(42)\n",
    "\n",
    "# Create an instance of the model (this is a subclass of nn.Module that contains nn.Parameter(s))\n",
    "model_0 = LinearRegressionModel()\n",
    "\n",
    "# Check the nn.Parameter(s) within the nn.Module subclass we created\n",
    "list(model_0.parameters())"
   ]
  },
  {
   "cell_type": "code",
   "execution_count": 9,
   "id": "4cef7ce7",
   "metadata": {},
   "outputs": [
    {
     "data": {
      "text/plain": [
       "OrderedDict([('weights', tensor([0.9047], device='mps:0')),\n",
       "             ('bias', tensor([-1.5057], device='mps:0'))])"
      ]
     },
     "execution_count": 9,
     "metadata": {},
     "output_type": "execute_result"
    }
   ],
   "source": [
    "# List named parameters \n",
    "model_0.state_dict()"
   ]
  },
  {
   "cell_type": "code",
   "execution_count": 10,
   "id": "a8fec2dc",
   "metadata": {},
   "outputs": [],
   "source": [
    "# Make predictions with model\n",
    "with torch.inference_mode(): \n",
    "    y_preds = model_0(X_test)\n",
    "# `torch.inference_mode()` turns off a bunch of things (like gradient \n",
    "# tracking) to make forward-passes faster."
   ]
  },
  {
   "cell_type": "code",
   "execution_count": 11,
   "id": "b1a53cdd",
   "metadata": {},
   "outputs": [
    {
     "name": "stdout",
     "output_type": "stream",
     "text": [
      "Number of testing samples: 10\n",
      "Number of predictions made: 10\n",
      "Predicted values:\n",
      "tensor([[-0.7819],\n",
      "        [-0.7638],\n",
      "        [-0.7457],\n",
      "        [-0.7276],\n",
      "        [-0.7095],\n",
      "        [-0.6914],\n",
      "        [-0.6734],\n",
      "        [-0.6553],\n",
      "        [-0.6372],\n",
      "        [-0.6191]], device='mps:0')\n"
     ]
    }
   ],
   "source": [
    "# Check the predictions\n",
    "print(f\"Number of testing samples: {len(X_test)}\") \n",
    "print(f\"Number of predictions made: {len(y_preds)}\")\n",
    "print(f\"Predicted values:\\n{y_preds}\")"
   ]
  },
  {
   "cell_type": "code",
   "execution_count": 12,
   "id": "052587b3",
   "metadata": {},
   "outputs": [
    {
     "data": {
      "image/png": "[encoded data removed]",
      "text/plain": [
       "<Figure size 1000x700 with 1 Axes>"
      ]
     },
     "metadata": {},
     "output_type": "display_data"
    }
   ],
   "source": [
    "plot_predictions(predictions=y_preds)"
   ]
  },
  {
   "cell_type": "code",
   "execution_count": 13,
   "id": "aebb1f31",
   "metadata": {},
   "outputs": [
    {
     "data": {
      "text/plain": [
       "tensor([[1.6419],\n",
       "        [1.6378],\n",
       "        [1.6337],\n",
       "        [1.6296],\n",
       "        [1.6255],\n",
       "        [1.6214],\n",
       "        [1.6174],\n",
       "        [1.6133],\n",
       "        [1.6092],\n",
       "        [1.6051]], device='mps:0')"
      ]
     },
     "execution_count": 13,
     "metadata": {},
     "output_type": "execute_result"
    }
   ],
   "source": [
    "y_test - y_preds # residuals"
   ]
  },
  {
   "cell_type": "code",
   "execution_count": 14,
   "id": "1af39bb1",
   "metadata": {},
   "outputs": [],
   "source": [
    "# Create the loss function\n",
    "loss_fn = nn.L1Loss() # MAE loss is same as L1Loss\n",
    "\n",
    "# Create the optimizer\n",
    "optimizer = torch.optim.SGD(params=model_0.parameters(), \n",
    "                            lr=0.01) #learning rate"
   ]
  },
  {
   "cell_type": "markdown",
   "id": "25170f10",
   "metadata": {},
   "source": [
    "| Number | Step name | What does it do? | Code example |\n",
    "| ----- | ----- | ----- | ----- |\n",
    "| 1 | Forward pass | The model goes through all of the training data once, performing its `forward()` function calculations. | `model(x_train)` |\n",
    "| 2 | Calculate the loss | The model's outputs (predictions) are compared to the ground truth and evaluated to see how wrong they are. | `loss = loss_fn(y_pred, y_train)` | \n",
    "| 3 | Zero gradients | The optimizers gradients are set to zero (they are accumulated by default) so they can be recalculated for the specific training step. | `optimizer.zero_grad()` |\n",
    "| 4 | Perform backpropagation on the loss | Computes the gradient of the loss with respect for every model parameter to be updated  (each parameter with `requires_grad=True`). This is known as **backpropagation**, hence \"backwards\".  | `loss.backward()` |\n",
    "| 5 | Update the optimizer (**gradient descent**) | Update the parameters with `requires_grad=True` with respect to the loss gradients in order to improve them. | `optimizer.step()` |"
   ]
  },
  {
   "cell_type": "code",
   "execution_count": 15,
   "id": "b53f5b84",
   "metadata": {},
   "outputs": [
    {
     "name": "stderr",
     "output_type": "stream",
     "text": [
      "/Users/tunadorable/anaconda3/lib/python3.11/site-packages/torch/autograd/__init__.py:200: UserWarning: The operator 'aten::sgn.out' is not currently supported on the MPS backend and will fall back to run on the CPU. This may have performance implications. (Triggered internally at /private/var/folders/nz/j6p8yfhx1mv_0grj5xl4650h0000gp/T/abs_1aidzjezue/croot/pytorch_1687856425340/work/aten/src/ATen/mps/MPSFallback.mm:11.)\n",
      "  Variable._execution_engine.run_backward(  # Calls into the C++ engine to run the backward pass\n"
     ]
    },
    {
     "name": "stdout",
     "output_type": "stream",
     "text": [
      "Epoch: 0 | MAE Train Loss: 1.7258310317993164 | MAE Test Loss: 1.6100212335586548\n",
      "Epoch: 10 | MAE Train Loss: 1.6106213331222534 | MAE Test Loss: 1.4753113985061646\n",
      "Epoch: 20 | MAE Train Loss: 1.4954112768173218 | MAE Test Loss: 1.3406015634536743\n",
      "Epoch: 30 | MAE Train Loss: 1.3802013397216797 | MAE Test Loss: 1.205891489982605\n",
      "Epoch: 40 | MAE Train Loss: 1.2649911642074585 | MAE Test Loss: 1.0711809396743774\n",
      "Epoch: 50 | MAE Train Loss: 1.1497811079025269 | MAE Test Loss: 0.936470627784729\n",
      "Epoch: 60 | MAE Train Loss: 1.0345710515975952 | MAE Test Loss: 0.8017603158950806\n",
      "Epoch: 70 | MAE Train Loss: 0.9193609356880188 | MAE Test Loss: 0.6670500040054321\n",
      "Epoch: 80 | MAE Train Loss: 0.8041507601737976 | MAE Test Loss: 0.5323395729064941\n",
      "Epoch: 90 | MAE Train Loss: 0.688940703868866 | MAE Test Loss: 0.3976292312145233\n",
      "Epoch: 100 | MAE Train Loss: 0.5737306475639343 | MAE Test Loss: 0.2629188597202301\n",
      "Epoch: 110 | MAE Train Loss: 0.4585205018520355 | MAE Test Loss: 0.12820850312709808\n",
      "Epoch: 120 | MAE Train Loss: 0.3433104157447815 | MAE Test Loss: 0.03382911905646324\n",
      "Epoch: 130 | MAE Train Loss: 0.23667339980602264 | MAE Test Loss: 0.13283014297485352\n",
      "Epoch: 140 | MAE Train Loss: 0.18796491622924805 | MAE Test Loss: 0.21101263165473938\n",
      "Epoch: 150 | MAE Train Loss: 0.16659267246723175 | MAE Test Loss: 0.25671395659446716\n",
      "Epoch: 160 | MAE Train Loss: 0.15546417236328125 | MAE Test Loss: 0.2838541865348816\n",
      "Epoch: 170 | MAE Train Loss: 0.14882495999336243 | MAE Test Loss: 0.2979896068572998\n",
      "Epoch: 180 | MAE Train Loss: 0.1439121663570404 | MAE Test Loss: 0.30502501130104065\n",
      "Epoch: 190 | MAE Train Loss: 0.13978531956672668 | MAE Test Loss: 0.30783239006996155\n",
      "Epoch: 200 | MAE Train Loss: 0.13614021241664886 | MAE Test Loss: 0.30437707901000977\n",
      "Epoch: 210 | MAE Train Loss: 0.13261212408542633 | MAE Test Loss: 0.3002259433269501\n",
      "Epoch: 220 | MAE Train Loss: 0.12908397614955902 | MAE Test Loss: 0.2960749566555023\n",
      "Epoch: 230 | MAE Train Loss: 0.1255558580160141 | MAE Test Loss: 0.29192376136779785\n",
      "Epoch: 240 | MAE Train Loss: 0.12209421396255493 | MAE Test Loss: 0.2850252687931061\n",
      "Epoch: 250 | MAE Train Loss: 0.11866581439971924 | MAE Test Loss: 0.27675318717956543\n",
      "Epoch: 260 | MAE Train Loss: 0.1152273416519165 | MAE Test Loss: 0.26848104596138\n",
      "Epoch: 270 | MAE Train Loss: 0.11179244518280029 | MAE Test Loss: 0.260895699262619\n",
      "Epoch: 280 | MAE Train Loss: 0.10836265236139297 | MAE Test Loss: 0.25262361764907837\n",
      "Epoch: 290 | MAE Train Loss: 0.10492390394210815 | MAE Test Loss: 0.24435149133205414\n",
      "Epoch: 300 | MAE Train Loss: 0.10149060934782028 | MAE Test Loss: 0.2367662489414215\n",
      "Epoch: 310 | MAE Train Loss: 0.09805919975042343 | MAE Test Loss: 0.2284940779209137\n",
      "Epoch: 320 | MAE Train Loss: 0.09462045878171921 | MAE Test Loss: 0.22022202610969543\n",
      "Epoch: 330 | MAE Train Loss: 0.09118881076574326 | MAE Test Loss: 0.21263670921325684\n",
      "Epoch: 340 | MAE Train Loss: 0.08775573968887329 | MAE Test Loss: 0.204364612698555\n",
      "Epoch: 350 | MAE Train Loss: 0.08431699126958847 | MAE Test Loss: 0.19609247148036957\n",
      "Epoch: 360 | MAE Train Loss: 0.08088701963424683 | MAE Test Loss: 0.1885071098804474\n",
      "Epoch: 370 | MAE Train Loss: 0.07745229452848434 | MAE Test Loss: 0.18023495376110077\n",
      "Epoch: 380 | MAE Train Loss: 0.0740136131644249 | MAE Test Loss: 0.17264966666698456\n",
      "Epoch: 390 | MAE Train Loss: 0.0705852285027504 | MAE Test Loss: 0.16437749564647675\n",
      "Epoch: 400 | MAE Train Loss: 0.0671488419175148 | MAE Test Loss: 0.15610532462596893\n",
      "Epoch: 410 | MAE Train Loss: 0.06371182948350906 | MAE Test Loss: 0.14851999282836914\n",
      "Epoch: 420 | MAE Train Loss: 0.06028343364596367 | MAE Test Loss: 0.14024780690670013\n",
      "Epoch: 430 | MAE Train Loss: 0.05684533715248108 | MAE Test Loss: 0.13197533786296844\n",
      "Epoch: 440 | MAE Train Loss: 0.05340993404388428 | MAE Test Loss: 0.12438970804214478\n",
      "Epoch: 450 | MAE Train Loss: 0.04998051002621651 | MAE Test Loss: 0.11611723899841309\n",
      "Epoch: 460 | MAE Train Loss: 0.04654170945286751 | MAE Test Loss: 0.1078447625041008\n",
      "Epoch: 470 | MAE Train Loss: 0.043107978999614716 | MAE Test Loss: 0.10025916248559952\n",
      "Epoch: 480 | MAE Train Loss: 0.03967687487602234 | MAE Test Loss: 0.09198667109012604\n",
      "Epoch: 490 | MAE Train Loss: 0.03623807057738304 | MAE Test Loss: 0.08371419459581375\n",
      "Epoch: 500 | MAE Train Loss: 0.03280602768063545 | MAE Test Loss: 0.07612863928079605\n"
     ]
    }
   ],
   "source": [
    "torch.manual_seed(69)\n",
    "\n",
    "epochs = 501\n",
    "train_loss_vals = []\n",
    "test_loss_vals = []\n",
    "epoch_ct = []\n",
    "\n",
    "for epoch in range(epochs):\n",
    "    ### Training\n",
    "    \n",
    "    # put model in training mode - which is default state so kinda unnecessary?\n",
    "    model_0.train()\n",
    "    \n",
    "    # fwd pass\n",
    "    y_pred = model_0(X_train)\n",
    "    \n",
    "    # calc loss\n",
    "    loss = loss_fn(y_pred, y_train) # earlier this was set to MAE\n",
    "    \n",
    "    # set grad to 0\n",
    "    optimizer.zero_grad()\n",
    "    \n",
    "    # calculate gradient using the loss\n",
    "    loss.backward()\n",
    "    \n",
    "    # performs backprop by telling the optimizer to update parameters\n",
    "    optimizer.step()\n",
    "    \n",
    "    ### testing\n",
    "    \n",
    "    # put model in eval mode so it doesn't track gradients (much faster than if u forget)\n",
    "    model_0.eval()\n",
    "    \n",
    "    with torch.inference_mode():\n",
    "        # fwd pass on test data\n",
    "        test_pred = model_0(X_test)\n",
    "        \n",
    "        # calc loss\n",
    "        test_loss = loss_fn(test_pred, y_test.type(torch.float))\n",
    "        # predictions come in torch.float (float32) datatype so just gotta double make sure test values do too\n",
    "        \n",
    "        # print\n",
    "        if epoch % 10 == 0:\n",
    "            epoch_ct.append(epoch)\n",
    "            train_loss_vals.append(loss.detach().cpu().numpy())\n",
    "            test_loss_vals.append(test_loss.detach().cpu().numpy())\n",
    "            # cuz we don't want those pesky tensor values for simple debugs\n",
    "            \n",
    "            print(f\"Epoch: {epoch} | MAE Train Loss: {loss} | MAE Test Loss: {test_loss}\")\n",
    "    "
   ]
  },
  {
   "cell_type": "code",
   "execution_count": 16,
   "id": "beced01c",
   "metadata": {},
   "outputs": [
    {
     "data": {
      "image/png": "[encoded data removed]",
      "text/plain": [
       "<Figure size 640x480 with 1 Axes>"
      ]
     },
     "metadata": {},
     "output_type": "display_data"
    }
   ],
   "source": [
    "# Plot the loss curves\n",
    "plt.plot(epoch_ct, train_loss_vals, label=\"Train loss\")\n",
    "plt.plot(epoch_ct, test_loss_vals, label=\"Test loss\")\n",
    "plt.title(\"Training and test loss curves\")\n",
    "plt.ylabel(\"Loss\")\n",
    "plt.xlabel(\"Epochs\")\n",
    "plt.legend();"
   ]
  },
  {
   "cell_type": "markdown",
   "id": "0d62b37f",
   "metadata": {},
   "source": [
    "^ so in the guide i'm watching they only did 100 epochs whereas i did 500 so they didn't see the double-descent curve. but also since this is a stupid linear function and my learning rate was constant my model went a bit crazy and ended up with a higher test loss than theirs at the end of the day. funny"
   ]
  },
  {
   "cell_type": "code",
   "execution_count": 17,
   "id": "54e8b6f4",
   "metadata": {},
   "outputs": [
    {
     "name": "stdout",
     "output_type": "stream",
     "text": [
      "The model learned the following values for weights and bias:\n",
      "OrderedDict([('weights', tensor([0.8616], device='mps:0')), ('bias', tensor([0.2323], device='mps:0'))])\n",
      "\n",
      "And the original values for weights and bias are:\n",
      "weights: 0.7, bias: 0.3\n"
     ]
    }
   ],
   "source": [
    "# Find our model's learned parameters\n",
    "print(\"The model learned the following values for weights and bias:\")\n",
    "print(model_0.state_dict())\n",
    "print(\"\\nAnd the original values for weights and bias are:\")\n",
    "print(f\"weights: {weight}, bias: {bias}\")"
   ]
  },
  {
   "cell_type": "markdown",
   "id": "9c865292",
   "metadata": {},
   "source": [
    "# makign predictions"
   ]
  },
  {
   "cell_type": "code",
   "execution_count": 19,
   "id": "f403139c",
   "metadata": {},
   "outputs": [
    {
     "data": {
      "text/plain": [
       "tensor([[0.9216],\n",
       "        [0.9388],\n",
       "        [0.9561],\n",
       "        [0.9733],\n",
       "        [0.9905],\n",
       "        [1.0077],\n",
       "        [1.0250],\n",
       "        [1.0422],\n",
       "        [1.0594],\n",
       "        [1.0767]], device='mps:0')"
      ]
     },
     "execution_count": 19,
     "metadata": {},
     "output_type": "execute_result"
    }
   ],
   "source": [
    "# 1. Set the model in evaluation mode\n",
    "model_0.eval()\n",
    "\n",
    "# 2. Setup the inference mode context manager\n",
    "with torch.inference_mode():\n",
    "  # 3. Make sure the calculations are done with the model and data on the same device\n",
    "  #model_0.to(\"mps\")\n",
    "  #X_test = X_test.to(\"mps\")\n",
    "  y_preds = model_0(X_test)\n",
    "y_preds"
   ]
  },
  {
   "cell_type": "code",
   "execution_count": 20,
   "id": "880a7b08",
   "metadata": {},
   "outputs": [
    {
     "data": {
      "image/png": "[encoded data removed]",
      "text/plain": [
       "<Figure size 1000x700 with 1 Axes>"
      ]
     },
     "metadata": {},
     "output_type": "display_data"
    }
   ],
   "source": [
    "plot_predictions(predictions=y_preds)"
   ]
  },
  {
   "cell_type": "markdown",
   "id": "77614014",
   "metadata": {},
   "source": [
    "# saving & loading a model"
   ]
  },
  {
   "cell_type": "markdown",
   "id": "6996ebc3",
   "metadata": {},
   "source": [
    "| PyTorch method | What does it do? | \n",
    "| ----- | ----- |\n",
    "| [`torch.save`](https://pytorch.org/docs/stable/torch.html?highlight=save#torch.save) | Saves a serialized object to disk using Python's [`pickle`](https://docs.python.org/3/library/pickle.html) utility. Models, tensors and various other Python objects like dictionaries can be saved using `torch.save`.  | \n",
    "| [`torch.load`](https://pytorch.org/docs/stable/torch.html?highlight=torch%20load#torch.load) | Uses `pickle`'s unpickling features to deserialize and load pickled Python object files (like models, tensors or dictionaries) into memory. You can also set which device to load the object to (CPU, GPU etc). |\n",
    "| [`torch.nn.Module.load_state_dict`](https://pytorch.org/docs/stable/generated/torch.nn.Module.html?highlight=load_state_dict#torch.nn.Module.load_state_dict)| Loads a model's parameter dictionary (`model.state_dict()`) using a saved `state_dict()` object. | "
   ]
  },
  {
   "cell_type": "markdown",
   "id": "79a895a2",
   "metadata": {},
   "source": [
    "The [recommended way](https://pytorch.org/tutorials/beginner/saving_loading_models.html#saving-loading-model-for-inference) for saving and loading a model for inference (making predictions) is by saving and loading a model's `state_dict()`."
   ]
  },
  {
   "cell_type": "code",
   "execution_count": 21,
   "id": "49d522e2",
   "metadata": {},
   "outputs": [
    {
     "name": "stdout",
     "output_type": "stream",
     "text": [
      "Saving model to: models/stupid_regression_model_0.pth\n"
     ]
    }
   ],
   "source": [
    "from pathlib import Path\n",
    "\n",
    "# 1. Create models directory \n",
    "MODEL_PATH = Path(\"models\")\n",
    "MODEL_PATH.mkdir(parents=True, exist_ok=True)\n",
    "\n",
    "# 2. Create model save path \n",
    "MODEL_NAME = \"stupid_regression_model_0.pth\"\n",
    "MODEL_SAVE_PATH = MODEL_PATH / MODEL_NAME\n",
    "\n",
    "# 3. Save the model state dict \n",
    "print(f\"Saving model to: {MODEL_SAVE_PATH}\")\n",
    "torch.save(obj=model_0.state_dict(), # only saving the state_dict() only saves the models learned parameters\n",
    "           f=MODEL_SAVE_PATH) "
   ]
  },
  {
   "cell_type": "code",
   "execution_count": 22,
   "id": "ffe6e441",
   "metadata": {
    "scrolled": true
   },
   "outputs": [
    {
     "name": "stdout",
     "output_type": "stream",
     "text": [
      "-rw-r--r--  1 tunadorable  staff  1199 Sep 30 19:10 models/stupid_regression_model_0.pth\r\n"
     ]
    }
   ],
   "source": [
    "# Check the saved file path\n",
    "!ls -l models/stupid_regression_model_0.pth"
   ]
  },
  {
   "cell_type": "markdown",
   "id": "a62d5332",
   "metadata": {},
   "source": [
    "Because we only saved the model's `state_dict()` which is a dictionary of learned parameters and not the *entire* model, we first have to load the `state_dict()` with `torch.load()` and then pass that `state_dict()` to a new instance of our model (which is a subclass of `nn.Module`).\n",
    "> The disadvantage of *saving the whole model* is that the serialized data is bound to the specific classes and the exact directory structure used when the model is saved...\n",
    ">\n",
    "> Because of this, your code can break in various ways when used in other projects or after refactors."
   ]
  },
  {
   "cell_type": "code",
   "execution_count": 23,
   "id": "d76bad2b",
   "metadata": {},
   "outputs": [
    {
     "data": {
      "text/plain": [
       "<All keys matched successfully>"
      ]
     },
     "execution_count": 23,
     "metadata": {},
     "output_type": "execute_result"
    }
   ],
   "source": [
    "# Instantiate a new instance of our model (this will be instantiated with random weights)\n",
    "loaded_model_0 = LinearRegressionModel()\n",
    "\n",
    "# Load the state_dict of our saved model (this will update the new instance of our model with trained weights)\n",
    "loaded_model_0.load_state_dict(torch.load(f=MODEL_SAVE_PATH))"
   ]
  },
  {
   "cell_type": "code",
   "execution_count": 24,
   "id": "9df5c8ba",
   "metadata": {},
   "outputs": [],
   "source": [
    "# 1. Put the loaded model into evaluation mode\n",
    "loaded_model_0.eval()\n",
    "\n",
    "# 2. Use the inference mode context manager to make predictions\n",
    "with torch.inference_mode():\n",
    "    loaded_model_preds = loaded_model_0(X_test) "
   ]
  },
  {
   "cell_type": "code",
   "execution_count": 25,
   "id": "b0b8a94f",
   "metadata": {},
   "outputs": [
    {
     "data": {
      "text/plain": [
       "tensor([[True],\n",
       "        [True],\n",
       "        [True],\n",
       "        [True],\n",
       "        [True],\n",
       "        [True],\n",
       "        [True],\n",
       "        [True],\n",
       "        [True],\n",
       "        [True]], device='mps:0')"
      ]
     },
     "execution_count": 25,
     "metadata": {},
     "output_type": "execute_result"
    }
   ],
   "source": [
    "# Compare previous model predictions with loaded model predictions\n",
    "y_preds == loaded_model_preds"
   ]
  },
  {
   "cell_type": "code",
   "execution_count": 28,
   "id": "d6da0f5b",
   "metadata": {},
   "outputs": [],
   "source": [
    "# this one is sipmler to type taking advantage of the in-buit nn.Linear() function\n",
    "class LinearRegressionModelV2(nn.Module):\n",
    "    def __init__(self):\n",
    "        super().__init__()\n",
    "        \n",
    "        self.linear_layer = nn.Linear(in_features=1,\n",
    "                                      out_features=1,\n",
    "                                     bias = True)\n",
    "        \n",
    "    # gotta define the forward computation\n",
    "    def forward(self, x: torch.Tensor) -> torch.Tensor:\n",
    "        return self.linear_layer(x)"
   ]
  },
  {
   "cell_type": "code",
   "execution_count": 29,
   "id": "b2b71526",
   "metadata": {},
   "outputs": [
    {
     "data": {
      "text/plain": [
       "(LinearRegressionModelV2(\n",
       "   (linear_layer): Linear(in_features=1, out_features=1, bias=True)\n",
       " ),\n",
       " OrderedDict([('linear_layer.weight', tensor([[0.7645]])),\n",
       "              ('linear_layer.bias', tensor([0.8300]))]))"
      ]
     },
     "execution_count": 29,
     "metadata": {},
     "output_type": "execute_result"
    }
   ],
   "source": [
    "torch.manual_seed(42)\n",
    "model_1 = LinearRegressionModelV2()\n",
    "model_1, model_1.state_dict()"
   ]
  },
  {
   "cell_type": "markdown",
   "id": "08c2d801",
   "metadata": {},
   "source": [
    "notice \"linear_layer\" was the name defined in \"self.linear_layer = ...\" so really that's how this dictionary works with generalizing layer names, you name them yourself"
   ]
  },
  {
   "cell_type": "code",
   "execution_count": 30,
   "id": "ca168bc9",
   "metadata": {},
   "outputs": [
    {
     "data": {
      "text/plain": [
       "device(type='cpu')"
      ]
     },
     "execution_count": 30,
     "metadata": {},
     "output_type": "execute_result"
    }
   ],
   "source": [
    "# checking device\n",
    "next(model_1.parameters()).device"
   ]
  },
  {
   "cell_type": "code",
   "execution_count": 32,
   "id": "16e49b7b",
   "metadata": {},
   "outputs": [
    {
     "data": {
      "text/plain": [
       "device(type='mps', index=0)"
      ]
     },
     "execution_count": 32,
     "metadata": {},
     "output_type": "execute_result"
    }
   ],
   "source": [
    "# set model to MPS if available, otherwise default to CPU\n",
    "if torch.backends.mps.is_available():\n",
    "    model_1.to(\"mps\")\n",
    "else:\n",
    "    print (\"MPS device not found.\")\n",
    "    \n",
    "next(model_1.parameters()).device"
   ]
  },
  {
   "cell_type": "code",
   "execution_count": 34,
   "id": "5c152235",
   "metadata": {},
   "outputs": [],
   "source": [
    "# Create loss function\n",
    "loss_fn = nn.MSELoss() # let's go MSE\n",
    "\n",
    "# Create optimizer\n",
    "optimizer = torch.optim.SGD(params=model_1.parameters(), # optimize newly created model's parameters\n",
    "                            lr=0.001) # smaller learning rate should let it get closer"
   ]
  },
  {
   "cell_type": "code",
   "execution_count": 35,
   "id": "c2a73b80",
   "metadata": {},
   "outputs": [
    {
     "name": "stdout",
     "output_type": "stream",
     "text": [
      "Epoch: 0 | Train loss: 0.3084445595741272 | Test loss: 0.34334543347358704\n",
      "Epoch: 100 | Train loss: 0.1942005604505539 | Test loss: 0.20442505180835724\n",
      "Epoch: 200 | Train loss: 0.12238439172506332 | Test loss: 0.11982319504022598\n",
      "Epoch: 300 | Train loss: 0.07723750919103622 | Test loss: 0.06877640634775162\n",
      "Epoch: 400 | Train loss: 0.04885372892022133 | Test loss: 0.03835875540971756\n",
      "Epoch: 500 | Train loss: 0.031007084995508194 | Test loss: 0.020545637235045433\n",
      "Epoch: 600 | Train loss: 0.019783765077590942 | Test loss: 0.010370250791311264\n",
      "Epoch: 700 | Train loss: 0.012723800726234913 | Test loss: 0.004772069863975048\n",
      "Epoch: 800 | Train loss: 0.008280877955257893 | Test loss: 0.0018752992618829012\n",
      "Epoch: 900 | Train loss: 0.005483008921146393 | Test loss: 0.0005386347183957696\n",
      "Epoch: 1000 | Train loss: 0.0037192830350250006 | Test loss: 7.435533188981935e-05\n"
     ]
    }
   ],
   "source": [
    "torch.manual_seed(42)\n",
    "\n",
    "# Set the number of epochs \n",
    "epochs = 1001\n",
    "\n",
    "# Put data on the available device\n",
    "# Without this, error will happen (not all model/data on device)\n",
    "device=\"mps\"\n",
    "X_train = X_train.to(device)\n",
    "X_test = X_test.to(device)\n",
    "y_train = y_train.to(device)\n",
    "y_test = y_test.to(device)\n",
    "\n",
    "for epoch in range(epochs):\n",
    "    ### Training\n",
    "    model_1.train() # train mode is on by default after construction\n",
    "\n",
    "    # 1. Forward pass\n",
    "    y_pred = model_1(X_train)\n",
    "\n",
    "    # 2. Calculate loss\n",
    "    loss = loss_fn(y_pred, y_train)\n",
    "\n",
    "    # 3. Zero grad optimizer\n",
    "    optimizer.zero_grad()\n",
    "\n",
    "    # 4. Loss backward\n",
    "    loss.backward()\n",
    "\n",
    "    # 5. Step the optimizer\n",
    "    optimizer.step()\n",
    "\n",
    "    ### Testing\n",
    "    model_1.eval() # put the model in evaluation mode for testing (inference)\n",
    "    # 1. Forward pass\n",
    "    with torch.inference_mode():\n",
    "        test_pred = model_1(X_test)\n",
    "    \n",
    "        # 2. Calculate the loss\n",
    "        test_loss = loss_fn(test_pred, y_test)\n",
    "\n",
    "    if epoch % 100 == 0:\n",
    "        print(f\"Epoch: {epoch} | Train loss: {loss} | Test loss: {test_loss}\")"
   ]
  },
  {
   "cell_type": "markdown",
   "id": "4835c84e",
   "metadata": {},
   "source": [
    "> **Note:** Due to the random nature of machine learning, you will likely get slightly different results (different loss and prediction values) depending on whether your model was trained on CPU or GPU. This is true even if you use the same random seed on either device. If the difference is large, you may want to look for errors, however, if it is small (ideally it is), you can ignore it."
   ]
  },
  {
   "cell_type": "code",
   "execution_count": 39,
   "id": "998bba5f",
   "metadata": {},
   "outputs": [
    {
     "name": "stdout",
     "output_type": "stream",
     "text": [
      "The model learned the following values for weights and bias:\n",
      "OrderedDict([('linear_layer.weight', tensor([[0.6002]], device='mps:0')), ('linear_layer.bias', tensor([0.3953], device='mps:0'))])\n",
      "\n",
      "And the original values for weights and bias are:\n",
      "weights: 0.7, bias: 0.3\n"
     ]
    }
   ],
   "source": [
    "# Find our model's learned parameters\n",
    "print(\"The model learned the following values for weights and bias:\")\n",
    "print(model_1.state_dict())\n",
    "print(\"\\nAnd the original values for weights and bias are:\")\n",
    "print(f\"weights: {weight}, bias: {bias}\")"
   ]
  },
  {
   "cell_type": "code",
   "execution_count": 40,
   "id": "c3ae479a",
   "metadata": {},
   "outputs": [
    {
     "data": {
      "text/plain": [
       "tensor([[0.8754],\n",
       "        [0.8874],\n",
       "        [0.8994],\n",
       "        [0.9114],\n",
       "        [0.9234],\n",
       "        [0.9354],\n",
       "        [0.9474],\n",
       "        [0.9595],\n",
       "        [0.9715],\n",
       "        [0.9835]], device='mps:0')"
      ]
     },
     "execution_count": 40,
     "metadata": {},
     "output_type": "execute_result"
    }
   ],
   "source": [
    "# Turn model into evaluation mode\n",
    "model_1.eval()\n",
    "\n",
    "# Make predictions on the test data\n",
    "with torch.inference_mode():\n",
    "    y_preds = model_1(X_test)\n",
    "y_preds"
   ]
  },
  {
   "cell_type": "code",
   "execution_count": 41,
   "id": "4da3dbbf",
   "metadata": {},
   "outputs": [
    {
     "data": {
      "image/png": "[encoded data removed]",
      "text/plain": [
       "<Figure size 1000x700 with 1 Axes>"
      ]
     },
     "metadata": {},
     "output_type": "display_data"
    }
   ],
   "source": [
    "# Normally you'd have to put data on the CPU before you plot it\n",
    "#    but earlier i was smart enough to account for that in my plot function\n",
    "plot_predictions(predictions=y_preds)"
   ]
  },
  {
   "cell_type": "code",
   "execution_count": 42,
   "id": "0f42fbea",
   "metadata": {},
   "outputs": [
    {
     "name": "stdout",
     "output_type": "stream",
     "text": [
      "Saving model to: models/stupid_regression_model_1.pth\n"
     ]
    }
   ],
   "source": [
    "from pathlib import Path\n",
    "\n",
    "# 1. Create models directory \n",
    "MODEL_PATH = Path(\"models\")\n",
    "MODEL_PATH.mkdir(parents=True, exist_ok=True)\n",
    "\n",
    "# 2. Create model save path \n",
    "MODEL_NAME = \"stupid_regression_model_1.pth\"\n",
    "MODEL_SAVE_PATH = MODEL_PATH / MODEL_NAME\n",
    "\n",
    "# 3. Save the model state dict \n",
    "print(f\"Saving model to: {MODEL_SAVE_PATH}\")\n",
    "torch.save(obj=model_1.state_dict(), # only saving the state_dict() only saves the models learned parameters\n",
    "           f=MODEL_SAVE_PATH) "
   ]
  },
  {
   "cell_type": "code",
   "execution_count": 43,
   "id": "da3b4e5e",
   "metadata": {},
   "outputs": [
    {
     "name": "stdout",
     "output_type": "stream",
     "text": [
      "Loaded model:\n",
      "LinearRegressionModelV2(\n",
      "  (linear_layer): Linear(in_features=1, out_features=1, bias=True)\n",
      ")\n",
      "Model on device:\n",
      "mps:0\n"
     ]
    }
   ],
   "source": [
    "# load it back in to make sure that worked\n",
    "\n",
    "# Instantiate a fresh instance of LinearRegressionModelV2\n",
    "loaded_model_1 = LinearRegressionModelV2()\n",
    "\n",
    "# Load model state dict \n",
    "loaded_model_1.load_state_dict(torch.load(MODEL_SAVE_PATH))\n",
    "\n",
    "# Put model to target device (if your data is on GPU, model will have to be on GPU to make predictions)\n",
    "loaded_model_1.to(device)\n",
    "\n",
    "print(f\"Loaded model:\\n{loaded_model_1}\")\n",
    "print(f\"Model on device:\\n{next(loaded_model_1.parameters()).device}\")"
   ]
  },
  {
   "cell_type": "code",
   "execution_count": 44,
   "id": "56ca6736",
   "metadata": {},
   "outputs": [
    {
     "data": {
      "text/plain": [
       "tensor([[True],\n",
       "        [True],\n",
       "        [True],\n",
       "        [True],\n",
       "        [True],\n",
       "        [True],\n",
       "        [True],\n",
       "        [True],\n",
       "        [True],\n",
       "        [True]], device='mps:0')"
      ]
     },
     "execution_count": 44,
     "metadata": {},
     "output_type": "execute_result"
    }
   ],
   "source": [
    "# Evaluate loaded model\n",
    "loaded_model_1.eval()\n",
    "with torch.inference_mode():\n",
    "    loaded_model_1_preds = loaded_model_1(X_test)\n",
    "y_preds == loaded_model_1_preds"
   ]
  },
  {
   "cell_type": "code",
   "execution_count": null,
   "id": "bd2ce41c",
   "metadata": {},
   "outputs": [],
   "source": []
  }
 ],
 "metadata": {
  "kernelspec": {
   "display_name": "Python 3 (ipykernel)",
   "language": "python",
   "name": "python3"
  },
  "language_info": {
   "codemirror_mode": {
    "name": "ipython",
    "version": 3
   },
   "file_extension": ".py",
   "mimetype": "text/x-python",
   "name": "python",
   "nbconvert_exporter": "python",
   "pygments_lexer": "ipython3",
   "version": "3.11.4"
  }
 },
 "nbformat": 4,
 "nbformat_minor": 5
}
